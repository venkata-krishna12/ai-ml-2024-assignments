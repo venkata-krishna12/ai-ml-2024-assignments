{
  "nbformat": 4,
  "nbformat_minor": 0,
  "metadata": {
    "colab": {
      "provenance": []
    },
    "kernelspec": {
      "name": "python3",
      "display_name": "Python 3"
    },
    "language_info": {
      "name": "python"
    }
  },
  "cells": [
    {
      "cell_type": "code",
      "source": [
        "def minmax(depth, node_index, maximizing_player, values):\n",
        "    if depth == 3:\n",
        "        return values[node_index]\n",
        "\n",
        "    if maximizing_player:\n",
        "        return max(minmax(depth + 1, node_index * 2, False, values),\n",
        "                   minmax(depth + 1, node_index * 2 + 1, False, values))\n",
        "    else:\n",
        "        return min(minmax(depth + 1, node_index * 2, True, values),\n",
        "                   minmax(depth + 1, node_index * 2 + 1, True, values))\n",
        "\n",
        "values = [-1 ,4 ,2 ,6 ,-3 ,-5 ,0 ,7]\n",
        "print(\"The optimal value is :\", minmax(0 ,0 ,True ,values))"
      ],
      "metadata": {
        "colab": {
          "base_uri": "https://localhost:8080/"
        },
        "id": "rYbIOT1iibcw",
        "outputId": "1e313671-ef5c-45ba-eedb-240eee055af4"
      },
      "execution_count": 9,
      "outputs": [
        {
          "output_type": "stream",
          "name": "stdout",
          "text": [
            "The optimal value is : 4\n"
          ]
        }
      ]
    },
    {
      "cell_type": "code",
      "source": [
        "def alphabeta(depth, node_index, maximizing_player, values, alpha, beta):\n",
        "    if depth == 3:\n",
        "        return values[node_index]\n",
        "\n",
        "    if maximizing_player:\n",
        "        max_val = -float('inf')\n",
        "        for i in range(0, 2):\n",
        "            val = alphabeta(depth + 1, node_index * 2 + i, False, values, alpha, beta)\n",
        "            max_val = max(max_val, val)\n",
        "            alpha = max(alpha, max_val)\n",
        "            if beta <= alpha:\n",
        "                break\n",
        "        return max_val\n",
        "    else:\n",
        "        min_val = float('inf')\n",
        "        for i in range(0, 2):\n",
        "            val = alphabeta(depth + 1, node_index * 2 + i, True, values, alpha, beta)\n",
        "            min_val = min(min_val, val)\n",
        "            beta = min(beta, min_val)\n",
        "            if beta <= alpha:\n",
        "                break\n",
        "        return min_val\n",
        "\n",
        "values = [-1 ,4 ,2 ,6 ,-3 ,-5 ,0 ,7]\n",
        "print(\"The optimal value is :\", alphabeta(0 ,0 ,True ,values, -float('inf'), float('inf')))"
      ],
      "metadata": {
        "colab": {
          "base_uri": "https://localhost:8080/"
        },
        "id": "iDBwRw1-i_v4",
        "outputId": "b5373708-3753-41bb-e1d9-4716f488837a"
      },
      "execution_count": 10,
      "outputs": [
        {
          "output_type": "stream",
          "name": "stdout",
          "text": [
            "The optimal value is : 4\n"
          ]
        }
      ]
    }
  ]
}